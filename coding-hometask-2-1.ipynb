{
 "cells": [
  {
   "cell_type": "markdown",
   "metadata": {},
   "source": [
    "# Задание по курсу «Дискретная оптимизация», МФТИ, весна 2017"
   ]
  },
  {
   "cell_type": "markdown",
   "metadata": {},
   "source": [
    "## Задача 2-1. Применяем простейший локальный поиск.\n",
    "\n",
    "В этой задаче Вам предлагается попробовать стандартную технику локального поиска (local search) в применении к задаче о сбалансированном разбиении графа. Мы будем рассматривать безвесовый вариант задачи с параметром балансировки $\\alpha=\\frac{1}{2}$:\n",
    "\n",
    "**Даны:**\n",
    "* $G=(V,E)$ — граф без весов на рёбрах\n",
    "\n",
    "**Найти:**\n",
    "* Разбиение $V=V'\\sqcup V''$, такое, что $V'=\\lfloor |V|/2 \\rfloor$ и число рёбер между $V'$ и $V''$ минимально возможное.\n",
    "\n",
    "Сделайте следующее:\n",
    "* [Скачайте](http://mat.gsia.cmu.edu/COLOR/instances.html#XXMYC) файлы mycielX.col  (`for X in range(1,8)`).  (Если интересно, откуда такие графы берутся и чем интересны, см. конструкцию Зыкова—Мыцельского [здесь](https://docs.com/dainiak/3327).)\n",
    "* Для каждого из графов найдите локальным поиском локально минимальное (по количеству рёбер между частями) разбиение вершин графа на две части, мощности которых отличаются не более чем на единицу. \n",
    "* Ваша функция `basic_local_search` должна принимать на вход граф в формате, предоставляемом функцией `read_col_file`, и возвращать найденное локально минимальное разбиение просто как множество либо список вершин, лежащих в одной любой из двух компонент разбиения."
   ]
  },
  {
   "cell_type": "markdown",
   "metadata": {},
   "source": [
    "Подключаем модули:"
   ]
  },
  {
   "cell_type": "code",
   "execution_count": 138,
   "metadata": {
    "collapsed": true
   },
   "outputs": [],
   "source": [
    "import itertools\n",
    "import math\n",
    "import numpy as np\n",
    "import random"
   ]
  },
  {
   "cell_type": "markdown",
   "metadata": {},
   "source": [
    "Читаем граф из файла:"
   ]
  },
  {
   "cell_type": "code",
   "execution_count": 151,
   "metadata": {
    "collapsed": false
   },
   "outputs": [],
   "source": [
    "def read_col_file(filename):\n",
    "    with open(filename, 'r') as file:\n",
    "        vertices, edges = set(), set()\n",
    "        for line in file:\n",
    "            line = line.strip()\n",
    "            if line.startswith('p'):\n",
    "                vertices = set(range(1, int(line.split()[-2]) + 1))\n",
    "            elif line.startswith('e'):\n",
    "                edges.add(tuple(map(int, line.split()[-2:])))\n",
    "        return (vertices, edges)"
   ]
  },
  {
   "cell_type": "markdown",
   "metadata": {},
   "source": [
    "Функция подсчета числа ребер, пересекающих разрез. Проверяем, в одной ли компоненте лежат концы ребра."
   ]
  },
  {
   "cell_type": "code",
   "execution_count": 172,
   "metadata": {
    "collapsed": true
   },
   "outputs": [],
   "source": [
    "def count_cut(colors, edges):\n",
    "    return np.array(list(map(lambda edge: colors[edge[0]] != colors[edge[1]], edges))).sum()"
   ]
  },
  {
   "cell_type": "markdown",
   "metadata": {},
   "source": [
    "Генерируем случайно две компоненты. Затем в каждой итерации меняем две случайные вершины. Если разрез увеличился, то меняем вершины местами обратно."
   ]
  },
  {
   "cell_type": "code",
   "execution_count": 186,
   "metadata": {
    "collapsed": false
   },
   "outputs": [],
   "source": [
    "def basic_local_search(graph):\n",
    "    size, vertices, edges = len(graph[0]), graph[0], list(graph[1])\n",
    "    \n",
    "    fragment = list(np.random.choice(list(vertices), size=len(vertices) // 2, replace=False))\n",
    "    the_other_fragment = list(vertices - set(fragment))\n",
    "    \n",
    "    colors = [-1] * (size + 1)\n",
    "    \n",
    "    for v in fragment:\n",
    "        colors[v] = 0\n",
    "    for v in the_other_fragment:\n",
    "        colors[v] = 1\n",
    "        \n",
    "    iteration = 0\n",
    "    \n",
    "    while iteration < 10000:\n",
    "        random.shuffle(fragment)\n",
    "        random.shuffle(the_other_fragment)\n",
    "        now_cut = count_cut(colors, edges)\n",
    "        fragment[0], the_other_fragment[0] = the_other_fragment[0], fragment[0]\n",
    "        colors[fragment[0]], colors[the_other_fragment[0]] = colors[the_other_fragment[0]], colors[fragment[0]]\n",
    "        if count_cut(colors, edges) > now_cut:\n",
    "            fragment[0], the_other_fragment[0] = the_other_fragment[0], fragment[0]\n",
    "            colors[fragment[0]], colors[the_other_fragment[0]] = colors[the_other_fragment[0]], colors[fragment[0]]\n",
    "        iteration += 1\n",
    "    \n",
    "    return fragment, the_other_fragment, count_cut(colors, edges)"
   ]
  },
  {
   "cell_type": "markdown",
   "metadata": {},
   "source": [
    "Привожу результат работы алгоритма на всех файлах:"
   ]
  },
  {
   "cell_type": "code",
   "execution_count": 187,
   "metadata": {
    "collapsed": false
   },
   "outputs": [
    {
     "name": "stdout",
     "output_type": "stream",
     "text": [
      "Тест под номером 3:\n",
      "Первая доля: [1, 6, 7, 9, 11]\n",
      "Вторая доля: [2, 3, 4, 5, 8, 10]\n",
      "Величиная разреза: 8 \n",
      "\n",
      "Тест под номером 4:\n",
      "Первая доля: [4, 5, 9, 11, 12, 16, 17, 19, 20, 21, 23]\n",
      "Вторая доля: [1, 2, 3, 6, 7, 8, 10, 13, 14, 15, 18, 22]\n",
      "Величиная разреза: 27 \n",
      "\n",
      "Тест под номером 5:\n",
      "Первая доля: [2, 3, 6, 7, 8, 10, 12, 13, 14, 16, 17, 18, 19, 21, 22, 25, 26, 27, 30, 31, 34, 45, 46]\n",
      "Вторая доля: [1, 4, 5, 9, 11, 15, 20, 23, 24, 28, 29, 32, 33, 35, 36, 37, 38, 39, 40, 41, 42, 43, 44, 47]\n",
      "Величиная разреза: 91 \n",
      "\n",
      "Тест под номером 6:\n",
      "Первая доля: [3, 4, 8, 9, 13, 15, 16, 17, 18, 19, 20, 21, 23, 24, 26, 28, 29, 31, 33, 35, 36, 39, 40, 41, 42, 43, 44, 46, 48, 49, 50, 51, 52, 58, 60, 62, 63, 65, 68, 69, 70, 71, 75, 81, 86, 93, 94]\n",
      "Вторая доля: [1, 2, 5, 6, 7, 10, 11, 12, 14, 22, 25, 27, 30, 32, 34, 37, 38, 45, 47, 53, 54, 55, 56, 57, 59, 61, 64, 66, 67, 72, 73, 74, 76, 77, 78, 79, 80, 82, 83, 84, 85, 87, 88, 89, 90, 91, 92, 95]\n",
      "Величиная разреза: 289 \n",
      "\n",
      "Тест под номером 7:\n",
      "Первая доля: [2, 3, 4, 11, 13, 23, 26, 31, 35, 36, 37, 38, 39, 40, 41, 42, 43, 44, 45, 47, 49, 54, 60, 63, 65, 68, 76, 82, 83, 84, 85, 86, 87, 88, 89, 90, 91, 92, 94, 95, 96, 98, 101, 103, 118, 119, 121, 124, 126, 130, 132, 134, 135, 136, 137, 138, 139, 142, 143, 144, 147, 148, 149, 150, 152, 154, 155, 158, 159, 160, 161, 162, 163, 165, 166, 168, 170, 171, 172, 173, 174, 175, 177, 178, 179, 180, 181, 182, 183, 184, 185, 186, 187, 189, 191]\n",
      "Вторая доля: [1, 5, 6, 7, 8, 9, 10, 12, 14, 15, 16, 17, 18, 19, 20, 21, 22, 24, 25, 27, 28, 29, 30, 32, 33, 34, 46, 48, 50, 51, 52, 53, 55, 56, 57, 58, 59, 61, 62, 64, 66, 67, 69, 70, 71, 72, 73, 74, 75, 77, 78, 79, 80, 81, 93, 97, 99, 100, 102, 104, 105, 106, 107, 108, 109, 110, 111, 112, 113, 114, 115, 116, 117, 120, 122, 123, 125, 127, 128, 129, 131, 133, 140, 141, 145, 146, 151, 153, 156, 157, 164, 167, 169, 176, 188, 190]\n",
      "Величиная разреза: 912 \n",
      "\n"
     ]
    }
   ],
   "source": [
    "for X in range (3, 8):\n",
    "    filename = 'myciel' + str(X) + '.col.txt'\n",
    "    V1, V2, cost = basic_local_search(read_col_file(filename))\n",
    "    print('Тест под номером ' + str(X) + ':')\n",
    "    print('Первая доля:', sorted(V1))\n",
    "    print('Вторая доля:', sorted(V2))\n",
    "    print('Величиная разреза:', cost, '\\n')"
   ]
  }
 ],
 "metadata": {
  "anaconda-cloud": {},
  "kernelspec": {
   "display_name": "Python [default]",
   "language": "python",
   "name": "python3"
  },
  "language_info": {
   "codemirror_mode": {
    "name": "ipython",
    "version": 3
   },
   "file_extension": ".py",
   "mimetype": "text/x-python",
   "name": "python",
   "nbconvert_exporter": "python",
   "pygments_lexer": "ipython3",
   "version": "3.5.2"
  }
 },
 "nbformat": 4,
 "nbformat_minor": 2
}
