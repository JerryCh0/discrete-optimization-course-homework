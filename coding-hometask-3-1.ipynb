{
 "cells": [
  {
   "cell_type": "markdown",
   "metadata": {
    "deletable": true,
    "editable": true
   },
   "source": [
    "# Задание по курсу «Дискретная оптимизация», МФТИ, весна 2017"
   ]
  },
  {
   "cell_type": "markdown",
   "metadata": {
    "collapsed": true,
    "deletable": true,
    "editable": true
   },
   "source": [
    "## Задача 3-1. Задача TSP: инкрементальные алгоритмы.\n",
    "\n",
    "В этой задаче Вам предлагается сравнить алгоритмы Nearest Neighbour и Nearest Insertion в задаче Euclidean TSP.\n",
    "\n",
    "**Даны:**\n",
    "* Координаты точек плоскости, являющихся вершинами графа.\n",
    "\n",
    "**Найти:**\n",
    "* Перестановку вершин, задающих минимальный по длине гамильтонов цикл в графе.\n",
    "\n",
    "Сделайте следующее:\n",
    "* Скачайте файл [`tsp-instances.zip`](https://github.com/dainiak/discrete-optimization-course/raw/master/tsp-instances.zip) и разархивируйте из него файлы со входами задачи TSP.\n",
    "* Реализуйте функции `solve_tsp_nearest_neighbour` и `solve_tsp_nearest_insertion`.\n",
    "* Запустите функцию `run_all()`, чтобы протестировать свой код и сравнить качество решений, получаемых Nearest Neighbour и Nearest Insertion. Сильно ли они отличаются? Запишите свои качественные выводы в 1-2 предложениях в последней ячейке ipynb-файла."
   ]
  },
  {
   "cell_type": "markdown",
   "metadata": {},
   "source": [
    "**Модули**"
   ]
  },
  {
   "cell_type": "code",
   "execution_count": 62,
   "metadata": {
    "collapsed": true
   },
   "outputs": [],
   "source": [
    "import numpy as np\n",
    "from math import sqrt"
   ]
  },
  {
   "cell_type": "markdown",
   "metadata": {},
   "source": [
    "**Служебные функции**"
   ]
  },
  {
   "cell_type": "code",
   "execution_count": 94,
   "metadata": {
    "collapsed": true,
    "deletable": true,
    "editable": true
   },
   "outputs": [],
   "source": [
    "def read_tsp_instance(filename):\n",
    "    with open(filename, 'r') as file:\n",
    "        coordinates = []\n",
    "        for line in file:\n",
    "            line = line.strip().lower()\n",
    "            if line.startswith('dimension'):\n",
    "                coordinates = [(0,0)] * int(line.split()[-1])\n",
    "            tokens = line.split()\n",
    "            if len(tokens) == 3 and tokens[0].isdecimal():\n",
    "                tokens = line.split()\n",
    "                coordinates[int(tokens[0])-1] = tuple(map(float, tokens[1:]))\n",
    "        return coordinates\n",
    "\n",
    "def euclidean_distance(point1, point2):\n",
    "    return sqrt((point1[0]-point2[0]) ** 2 + (point1[1]-point2[1]) ** 2)\n",
    "    \n",
    "def calculate_tour_length(instance, permutation):\n",
    "    n = len(permutation)\n",
    "    return sum(euclidean_distance(instance[permutation[i]], instance[permutation[(i+1) % n]]) \n",
    "               for i in range(len(permutation)))\n",
    "\n",
    "def weight(i, j, array):\n",
    "        return euclidean_distance(array[i], array[j])"
   ]
  },
  {
   "cell_type": "markdown",
   "metadata": {},
   "source": [
    "Решаем задачу методом **Nearest Neighbour**. Начиная с произвольной вершины, на каждой итерации находим ближайшую к текущей и добавляем ее в наш цикл. "
   ]
  },
  {
   "cell_type": "code",
   "execution_count": 95,
   "metadata": {
    "collapsed": true,
    "deletable": true,
    "editable": true
   },
   "outputs": [],
   "source": [
    "def solve_tsp_nearest_neighbour(instance):\n",
    "    \n",
    "    to_visit = instance.copy()\n",
    "    current_vertex = to_visit.pop()\n",
    "    tour = [instance.index(current_vertex)]\n",
    "    \n",
    "    for iteration_num in range(len(instance) - 1):\n",
    "        nearest_vertex = min(to_visit, key=lambda v: euclidean_distance(v, current_vertex))\n",
    "        tour.append(instance.index(nearest_vertex))\n",
    "        to_visit.remove(nearest_vertex)\n",
    "        current_vertex = nearest_vertex\n",
    "        \n",
    "    return tour"
   ]
  },
  {
   "cell_type": "markdown",
   "metadata": {},
   "source": [
    "Решаем задачу методом **Nearest Insertion**. На каждом шаге, уже имея гамильтонов цикл на некотором подмножестве вершин графа, будем искать ближайшую к этому циклу вершину. Затем, вставляем ее в цикл, найдя ребро, расщепив которое и добавив два новых ребра, мы прибавим минимальный вес."
   ]
  },
  {
   "cell_type": "code",
   "execution_count": 106,
   "metadata": {
    "collapsed": true,
    "deletable": true,
    "editable": true
   },
   "outputs": [],
   "source": [
    "def solve_tsp_nearest_insertion(instance):\n",
    "    \n",
    "    instance = np.array(instance)\n",
    "    size = len(instance)\n",
    "    tour = np.arange(0, 1)\n",
    "    to_visit = np.arange(1, size)\n",
    "    \n",
    "    for tour_length in range(1, size):\n",
    "        \n",
    "        in_tour = instance[tour].T\n",
    "        not_in_tour = instance[to_visit].T\n",
    "        \n",
    "        temporary_column = np.tile(in_tour, size - tour_length)\n",
    "        temporary_column = temporary_column.reshape((2, size - tour_length, tour_length))\n",
    "        temporary_column = np.array([column.T for column in temporary_column])\n",
    "        reshape_temporary = np.tile(not_in_tour, tour_length).reshape((2, tour_length, size - tour_length))\n",
    "        temporary_distances = np.sqrt((temporary_column[0] - reshape_temporary[0]) ** 2 +\n",
    "                                      (temporary_column[1] - reshape_temporary[1]) ** 2)\n",
    "        distances = temporary_distances + np.roll(temporary_distances, 1, axis=0)\n",
    "        neighbour_distances = np.array([weight(tour[i - 1], tour[i], instance) for i in range(tour_length)])\n",
    "        matrix = distances.T - neighbour_distances\n",
    "        arg_min = np.argmin(matrix)\n",
    "        new_tour_edge = arg_min % tour_length\n",
    "        to_visit_num = arg_min // tour_length\n",
    "        tour = np.insert(tour, new_tour_edge, to_visit[to_visit_num])\n",
    "        to_visit = np.delete(to_visit, to_visit_num)\n",
    "        \n",
    "    return tour"
   ]
  },
  {
   "cell_type": "code",
   "execution_count": 107,
   "metadata": {
    "collapsed": false,
    "deletable": true,
    "editable": true
   },
   "outputs": [],
   "source": [
    "import time\n",
    "from os.path import exists\n",
    "\n",
    "def run_all():\n",
    "    instance_filenames = ['pr107.tsp', 'pr152.tsp', 'd198.tsp', 'pr439.tsp', 'd493.tsp', 'd657.tsp', 'd2103.tsp']\n",
    "    for test, filename in enumerate(instance_filenames):\n",
    "        if not exists(filename):\n",
    "            print('File not found: “{}”. Skipping this instance.'.format(filename))\n",
    "            continue\n",
    "        instance = read_tsp_instance(filename)\n",
    "        print('Тест {} из файла {}:'.format(test + 1, filename), end='\\n')\n",
    "        time_start = time.monotonic()\n",
    "        quality_nn = calculate_tour_length(instance, solve_tsp_nearest_neighbour(instance))\n",
    "        time_nn = time.monotonic()-time_start\n",
    "        time_start = time.monotonic()\n",
    "        quality_ni = calculate_tour_length(instance, solve_tsp_nearest_insertion(instance))\n",
    "        time_ni = time.monotonic()-time_start\n",
    "        print('Алгоритм Nearest Neighbour: длина тура {}, вычислено за {:.2} секунд'.format(int(quality_nn), time_nn), end = '\\n')\n",
    "        print('Алгоритм Nearest Insertion: длина тура {}, вычислено за {:.2} секунд'.format(int(quality_ni), time_ni), end = '\\n\\n')"
   ]
  },
  {
   "cell_type": "code",
   "execution_count": 108,
   "metadata": {
    "collapsed": false,
    "deletable": true,
    "editable": true
   },
   "outputs": [
    {
     "name": "stdout",
     "output_type": "stream",
     "text": [
      "Тест 1 из файла pr107.tsp:\n",
      "Алгоритм Nearest Neighbour: длина тура 47464, вычислено за 0.0063 секунд\n",
      "Алгоритм Nearest Insertion: длина тура 52587, вычислено за 0.068 секунд\n",
      "\n",
      "Тест 2 из файла pr152.tsp:\n",
      "Алгоритм Nearest Neighbour: длина тура 85314, вычислено за 0.011 секунд\n",
      "Алгоритм Nearest Insertion: длина тура 88530, вычислено за 0.073 секунд\n",
      "\n",
      "Тест 3 из файла d198.tsp:\n",
      "Алгоритм Nearest Neighbour: длина тура 18830, вычислено за 0.019 секунд\n",
      "Алгоритм Nearest Insertion: длина тура 17631, вычислено за 0.16 секунд\n",
      "\n",
      "Тест 4 из файла pr439.tsp:\n",
      "Алгоритм Nearest Neighbour: длина тура 131702, вычислено за 0.091 секунд\n",
      "Алгоритм Nearest Insertion: длина тура 130067, вычислено за 0.86 секунд\n",
      "\n",
      "Тест 5 из файла d493.tsp:\n",
      "Алгоритм Nearest Neighbour: длина тура 44160, вычислено за 0.13 секунд\n",
      "Алгоритм Nearest Insertion: длина тура 39982, вычислено за 1.1 секунд\n",
      "\n",
      "Тест 6 из файла d657.tsp:\n",
      "Алгоритм Nearest Neighbour: длина тура 62860, вычислено за 0.22 секунд\n",
      "Алгоритм Nearest Insertion: длина тура 57906, вычислено за 2.8 секунд\n",
      "\n",
      "Тест 7 из файла d2103.tsp:\n",
      "Алгоритм Nearest Neighbour: длина тура 92247, вычислено за 2.3 секунд\n",
      "Алгоритм Nearest Insertion: длина тура 87570, вычислено за 1.5e+02 секунд\n",
      "\n"
     ]
    }
   ],
   "source": [
    "run_all()"
   ]
  },
  {
   "cell_type": "markdown",
   "metadata": {
    "collapsed": true,
    "deletable": true,
    "editable": true
   },
   "source": [
    "## Выводы\n",
    "Исходя из результатов тестов, эффективность и точность предложенных алгоритмов сильно зависит от конструкции графа. В каких-то случаях лучше **Nearest Neighbour**, в каких-то **Nearest Insertion**. Зачастую **Nearest Insertion** находит тур ощутимо меньшего веса, но при этом его временная сложность составляет $O(n^3)$ против $O(n^2)$ у **Nearest Neighbour**."
   ]
  }
 ],
 "metadata": {
  "anaconda-cloud": {},
  "kernelspec": {
   "display_name": "Python [default]",
   "language": "python",
   "name": "python3"
  },
  "language_info": {
   "codemirror_mode": {
    "name": "ipython",
    "version": 3
   },
   "file_extension": ".py",
   "mimetype": "text/x-python",
   "name": "python",
   "nbconvert_exporter": "python",
   "pygments_lexer": "ipython3",
   "version": "3.5.2"
  }
 },
 "nbformat": 4,
 "nbformat_minor": 2
}
