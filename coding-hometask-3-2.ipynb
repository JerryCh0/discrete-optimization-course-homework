{
 "cells": [
  {
   "cell_type": "markdown",
   "metadata": {
    "collapsed": true
   },
   "source": [
    "## Задача 3-2. Задача TSP: нижняя оценка Гельда—Карпа.\n",
    "\n",
    "В этой задаче Вам предлагается релизовать алгоритм Гельда—Карпа для нижней оценки стоимости решения в задаче Euclidean TSP.\n",
    "\n",
    "Сделайте следующее:\n",
    "* Скачайте файл [`tsp-instances.zip`](https://github.com/dainiak/discrete-optimization-course/raw/master/tsp-instances.zip) и разархивируйте из него файлы со входами задачи TSP. Это в точности те же входные данные, что и в задании 3-1.\n",
    "* Реализуйте функцию `lower_bound_tsp`. При этом можно пользоваться каким-нибудь стандартным алгоритмом построения минимального остовного дерева из библиотеки [`networkx`](https://networkx.github.io/), входящей в состав дистрибутива Anaconda.\n",
    "* Запустите функцию `run_all()`, чтобы протестировать свой код, и напишите полученные, как следствия, верхние оценки погрешностей решений, которые были получены Вашими алгоритмами NN и NI при решении задания 3-1. Запишите свои выводы в 1-2 предложениях в последней ячейке ipynb-файла."
   ]
  },
  {
   "cell_type": "markdown",
   "metadata": {},
   "source": [
    "**Импортируем требуемые модули:**"
   ]
  },
  {
   "cell_type": "code",
   "execution_count": 91,
   "metadata": {
    "collapsed": true
   },
   "outputs": [],
   "source": [
    "import networkx\n",
    "import numpy as np\n",
    "import pandas\n",
    "from typing import List, Tuple\n",
    "from math import sqrt\n",
    "from itertools import combinations, islice\n",
    "import time\n",
    "from os.path import exists"
   ]
  },
  {
   "cell_type": "markdown",
   "metadata": {},
   "source": [
    "**Чтение графа и вычисление расстояния:**"
   ]
  },
  {
   "cell_type": "code",
   "execution_count": 105,
   "metadata": {
    "collapsed": true
   },
   "outputs": [],
   "source": [
    "def read_tsp_instance(filename: str) -> List[Tuple[int,int]]:\n",
    "    with open(filename, 'r') as file:\n",
    "        coordinates = []\n",
    "        for line in file:\n",
    "            line = line.strip().lower()\n",
    "            if line.startswith('dimension'):\n",
    "                coordinates = [(0, 0)] * int(line.split()[-1])\n",
    "            tokens = line.split()\n",
    "            if len(tokens) == 3 and tokens[0].isdecimal():\n",
    "                tokens = line.split()\n",
    "                coordinates[int(tokens[0])-1] = tuple(map(float, tokens[1:]))\n",
    "        return coordinates\n",
    "\n",
    "\n",
    "def euclidean_distance(point1: Tuple[int,int], point2: Tuple[int,int]) -> float:\n",
    "    return sqrt((point1[0]-point2[0]) ** 2 + (point1[1]-point2[1]) ** 2)"
   ]
  },
  {
   "cell_type": "markdown",
   "metadata": {},
   "source": [
    "**Создание графа:**"
   ]
  },
  {
   "cell_type": "code",
   "execution_count": 106,
   "metadata": {
    "collapsed": true
   },
   "outputs": [],
   "source": [
    "def graph(vertex_coordinates, coordinates):\n",
    "    size = len(vertex_coordinates)\n",
    "    g = networkx.Graph()\n",
    "    g.add_nodes_from(range(size))\n",
    "    for vertex, another_vertex in combinations(range(size), 2):\n",
    "        g.add_edge(vertex, another_vertex, weight=euclidean_distance(vertex_coordinates[vertex], vertex_coordinates[another_vertex]) - coordinates[vertex] - coordinates[another_vertex])\n",
    "    return g"
   ]
  },
  {
   "cell_type": "markdown",
   "metadata": {},
   "source": [
    "**Обновление координат при новом MST:**"
   ]
  },
  {
   "cell_type": "code",
   "execution_count": 107,
   "metadata": {
    "collapsed": true
   },
   "outputs": [],
   "source": [
    "def boost(MST, coordinates):\n",
    "    V = MST.number_of_nodes()\n",
    "    boosted = np.zeros(V)\n",
    "    for index, elem in enumerate(boosted):\n",
    "        elem = coordinates[index] + 2 - MST.degree(index)\n",
    "    return boosted"
   ]
  },
  {
   "cell_type": "markdown",
   "metadata": {},
   "source": [
    "**Оценка Гельда-Карпа:**"
   ]
  },
  {
   "cell_type": "code",
   "execution_count": 118,
   "metadata": {
    "collapsed": true
   },
   "outputs": [],
   "source": [
    "def lower_bound_tsp(vertex_coordinates: List[Tuple[int,int]]) -> float:\n",
    "    size = len(vertex_coordinates)\n",
    "    coords = np.zeros(size)\n",
    "    start, answer =  time.monotonic(), 0\n",
    "    while time.monotonic() - start < 10:\n",
    "        g = graph(vertex_coordinates, coords)\n",
    "        MST = networkx.minimum_spanning_tree(g)\n",
    "        current_answer = 2 * sum(coords) + MST.size(weight='weight')\n",
    "        answer = max(answer, current_answer)\n",
    "        coords = boost(MST, coords)\n",
    "    return answer"
   ]
  },
  {
   "cell_type": "markdown",
   "metadata": {},
   "source": [
    "**Запуск всех тестов:**"
   ]
  },
  {
   "cell_type": "code",
   "execution_count": 119,
   "metadata": {
    "collapsed": false
   },
   "outputs": [],
   "source": [
    "def run_all():\n",
    "    NN, NI = 0, 0\n",
    "    myNN = [47464, 85314, 18830, 131702, 44160, 62860, 92247]\n",
    "    myNI = [52587, 88530, 17631, 130067, 39982, 57906, 87570]\n",
    "    instance_filenames = ['pr107.tsp', 'pr152.tsp', 'd198.tsp', \n",
    "                          'pr439.tsp', 'd493.tsp', 'd657.tsp', 'd2103.tsp']\n",
    "    for test, filename in enumerate(instance_filenames):\n",
    "        if not exists(filename):\n",
    "            print('File not found: “{}”. Skipping this instance.'.format(filename))\n",
    "            continue\n",
    "        instance = read_tsp_instance(filename)\n",
    "        print('***********************')\n",
    "        print('Тест {} из файла {}:'.format(test + 1, filename), end='\\n')\n",
    "        time_start = time.monotonic()\n",
    "        estimation = lower_bound_tsp(instance)\n",
    "        time_nn = time.monotonic()-time_start\n",
    "        print(' Завершено за {:.2} секунд с нижней оценкой {}'.format(time_nn, int(estimation)))\n",
    "        print('---------------------------')\n",
    "        print(' Метод Nearest Neighbour давал результат {}\\n Погрешность метода Nearest Neighbour равна {:.3}%'.format(myNN[test], (myNN[test] / estimation - 1) * 100))\n",
    "        print('---------------------------')\n",
    "        print(' Метод Nearest Insertion давал результат {}\\n Погрешность метода Nearest Insertion равна {:.3}%'.format(myNI[test], (myNI[test] / estimation - 1) * 100))\n",
    "        print('---------------------------')\n",
    "        if myNN[test] < myNI[test]:\n",
    "            print(' Метод Nearest Neighbour в данном тесте дал результат более близкий к нижней оценке Гельда-Карпа.\\n')\n",
    "            NN += 1\n",
    "        else:\n",
    "            print(' Метод Nearest Insertion в данном тесте дал результат более близкий к нижней оценке Гельда-Карпа.\\n')\n",
    "            NI += 1\n",
    "        \n",
    "    if NI >= NN:\n",
    "        print('Метод Nearest Insertion оказался точнее в совокупности тестов.')\n",
    "    else:\n",
    "        print('Метод Nearest Neighbour оказался точнее в совокупности тестов.')"
   ]
  },
  {
   "cell_type": "code",
   "execution_count": 120,
   "metadata": {
    "collapsed": false
   },
   "outputs": [
    {
     "name": "stdout",
     "output_type": "stream",
     "text": [
      "***********************\n",
      "Тест 1 из файла pr107.tsp:\n",
      " Завершено за 1e+01 секунд с нижней оценкой 34757\n",
      "---------------------------\n",
      " Метод Nearest Neighbour давал результат 47464\n",
      " Погрешность метода Nearest Neighbour равна 36.6%\n",
      "---------------------------\n",
      " Метод Nearest Insertion давал результат 52587\n",
      " Погрешность метода Nearest Insertion равна 51.3%\n",
      "---------------------------\n",
      " Метод Nearest Neighbour в данном тесте дал результат более близкий к нижней оценке Гельда-Карпа.\n",
      "\n",
      "***********************\n",
      "Тест 2 из файла pr152.tsp:\n",
      " Завершено за 1e+01 секунд с нижней оценкой 59168\n",
      "---------------------------\n",
      " Метод Nearest Neighbour давал результат 85314\n",
      " Погрешность метода Nearest Neighbour равна 44.2%\n",
      "---------------------------\n",
      " Метод Nearest Insertion давал результат 88530\n",
      " Погрешность метода Nearest Insertion равна 49.6%\n",
      "---------------------------\n",
      " Метод Nearest Neighbour в данном тесте дал результат более близкий к нижней оценке Гельда-Карпа.\n",
      "\n",
      "***********************\n",
      "Тест 3 из файла d198.tsp:\n",
      " Завершено за 1e+01 секунд с нижней оценкой 11767\n",
      "---------------------------\n",
      " Метод Nearest Neighbour давал результат 18830\n",
      " Погрешность метода Nearest Neighbour равна 60.0%\n",
      "---------------------------\n",
      " Метод Nearest Insertion давал результат 17631\n",
      " Погрешность метода Nearest Insertion равна 49.8%\n",
      "---------------------------\n",
      " Метод Nearest Insertion в данном тесте дал результат более близкий к нижней оценке Гельда-Карпа.\n",
      "\n",
      "***********************\n",
      "Тест 4 из файла pr439.tsp:\n",
      " Завершено за 1.1e+01 секунд с нижней оценкой 92193\n",
      "---------------------------\n",
      " Метод Nearest Neighbour давал результат 131702\n",
      " Погрешность метода Nearest Neighbour равна 42.9%\n",
      "---------------------------\n",
      " Метод Nearest Insertion давал результат 130067\n",
      " Погрешность метода Nearest Insertion равна 41.1%\n",
      "---------------------------\n",
      " Метод Nearest Insertion в данном тесте дал результат более близкий к нижней оценке Гельда-Карпа.\n",
      "\n",
      "***********************\n",
      "Тест 5 из файла d493.tsp:\n",
      " Завершено за 1.1e+01 секунд с нижней оценкой 29284\n",
      "---------------------------\n",
      " Метод Nearest Neighbour давал результат 44160\n",
      " Погрешность метода Nearest Neighbour равна 50.8%\n",
      "---------------------------\n",
      " Метод Nearest Insertion давал результат 39982\n",
      " Погрешность метода Nearest Insertion равна 36.5%\n",
      "---------------------------\n",
      " Метод Nearest Insertion в данном тесте дал результат более близкий к нижней оценке Гельда-Карпа.\n",
      "\n",
      "***********************\n",
      "Тест 6 из файла d657.tsp:\n",
      " Завершено за 1e+01 секунд с нижней оценкой 42490\n",
      "---------------------------\n",
      " Метод Nearest Neighbour давал результат 62860\n",
      " Погрешность метода Nearest Neighbour равна 47.9%\n",
      "---------------------------\n",
      " Метод Nearest Insertion давал результат 57906\n",
      " Погрешность метода Nearest Insertion равна 36.3%\n",
      "---------------------------\n",
      " Метод Nearest Insertion в данном тесте дал результат более близкий к нижней оценке Гельда-Карпа.\n",
      "\n",
      "***********************\n",
      "Тест 7 из файла d2103.tsp:\n",
      " Завершено за 3.1e+01 секунд с нижней оценкой 76300\n",
      "---------------------------\n",
      " Метод Nearest Neighbour давал результат 92247\n",
      " Погрешность метода Nearest Neighbour равна 20.9%\n",
      "---------------------------\n",
      " Метод Nearest Insertion давал результат 87570\n",
      " Погрешность метода Nearest Insertion равна 14.8%\n",
      "---------------------------\n",
      " Метод Nearest Insertion в данном тесте дал результат более близкий к нижней оценке Гельда-Карпа.\n",
      "\n",
      "Метод Nearest Insertion оказался точнее в совокупности тестов.\n"
     ]
    }
   ],
   "source": [
    "run_all()"
   ]
  },
  {
   "cell_type": "markdown",
   "metadata": {},
   "source": [
    "## Выводы\n",
    "\n",
    "В ходе работы мы получили нижние оценки для графов из примеров. Алгоритмы NN и NI дают вполне хорошие приближения к нижней оценке Гельда-Карпа. На нашем датасете точнее (ближе к нижней оценке) оказался метод NI."
   ]
  }
 ],
 "metadata": {
  "anaconda-cloud": {},
  "kernelspec": {
   "display_name": "Python [default]",
   "language": "python",
   "name": "python3"
  },
  "language_info": {
   "codemirror_mode": {
    "name": "ipython",
    "version": 3
   },
   "file_extension": ".py",
   "mimetype": "text/x-python",
   "name": "python",
   "nbconvert_exporter": "python",
   "pygments_lexer": "ipython3",
   "version": "3.5.2"
  }
 },
 "nbformat": 4,
 "nbformat_minor": 1
}
