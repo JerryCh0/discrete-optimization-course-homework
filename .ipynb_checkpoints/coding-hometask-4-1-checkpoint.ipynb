{
 "cells": [
  {
   "cell_type": "markdown",
   "metadata": {},
   "source": [
    "## Задача 4-1. Линейное программирование: формулирование задачи.\n",
    "\n",
    "В этой задаче Вам предлагается закодировать задачу TSP для заданного графа в виде задачи ЦЛП с помощью условий MTZ (Миллера—Таккера—Землина) и поработать с библиотекой [PuLP](https://pypi.python.org/pypi/PuLP/1.6.5). Если Вы используете дистрибутив Anaconda, то эта библиотека не находится утилитой conda, зато совершенно нормально устанавливается с помощью pip:\n",
    "\n",
    "`pip install pulp`\n",
    "\n",
    "Вам дана функция `dist15`, которая по двум номерам вершин возвращает вес ребра между ними. Номера от 1 до 15, пример взят [отсюда](https://people.sc.fsu.edu/~jburkardt/datasets/tsp/tsp.html).\n",
    "Нужно построить соответствующую задачу ЦЛП и решить её средствами PuLP, чтобы найти оптимальный гамильтонов цикл в графе. Сделать это следует в функции `solve_tsp_with_lp`, которая получает на вход размерность задачи и весовую функцию, а на выходе даёт перестановку номеров вершин графа (нумеруемых с единицы), соответствующую оптимальному гамильтонову циклу."
   ]
  },
  {
   "cell_type": "markdown",
   "metadata": {},
   "source": [
    "** Импортируем нужные модули: **"
   ]
  },
  {
   "cell_type": "code",
   "execution_count": 51,
   "metadata": {
    "collapsed": true
   },
   "outputs": [],
   "source": [
    "import itertools\n",
    "\n",
    "from pulp import LpVariable, LpProblem, LpConstraint, LpMinimize, LpAffineExpression, LpInteger\n",
    "from typing import List, Callable"
   ]
  },
  {
   "cell_type": "markdown",
   "metadata": {},
   "source": [
    "** Функция, возвращающая вес ребра между данными вершинами: **"
   ]
  },
  {
   "cell_type": "code",
   "execution_count": 52,
   "metadata": {
    "collapsed": true
   },
   "outputs": [],
   "source": [
    "def dist15(i: int, j: int) -> int:\n",
    "    return (\n",
    "        list(\n",
    "            map(\n",
    "                int, \n",
    "                filter(\n",
    "                    lambda s: len(s.strip()) > 0, '''\n",
    "                    0 29 82 46 68 52 72 42 51 55 29 74 23 72 46 \n",
    "                    29  0 55 46 42 43 43 23 23 31 41 51 11 52 21 \n",
    "                    82 55  0 68 46 55 23 43 41 29 79 21 64 31 51 \n",
    "                    46 46 68  0 82 15 72 31 62 42 21 51 51 43 64 \n",
    "                    68 42 46 82  0 74 23 52 21 46 82 58 46 65 23 \n",
    "                    52 43 55 15 74  0 61 23 55 31 33 37 51 29 59 \n",
    "                    72 43 23 72 23 61  0 42 23 31 77 37 51 46 33 \n",
    "                    42 23 43 31 52 23 42  0 33 15 37 33 33 31 37 \n",
    "                    51 23 41 62 21 55 23 33  0 29 62 46 29 51 11 \n",
    "                    55 31 29 42 46 31 31 15 29  0 51 21 41 23 37 \n",
    "                    29 41 79 21 82 33 77 37 62 51  0 65 42 59 61 \n",
    "                    74 51 21 51 58 37 37 33 46 21 65  0 61 11 55 \n",
    "                    23 11 64 51 46 51 51 33 29 41 42 61  0 62 23 \n",
    "                    72 52 31 43 65 29 46 31 51 23 59 11 62  0 59 \n",
    "                    46 21 51 64 23 59 33 37 11 37 61 55 23 59  0\n",
    "                    '''.split()\n",
    "                )\n",
    "            )\n",
    "        )[(i-1) * 15 + (j-1)]\n",
    "    )"
   ]
  },
  {
   "cell_type": "markdown",
   "metadata": {},
   "source": [
    "** Вычисление веса цикла по списку его вершин: **"
   ]
  },
  {
   "cell_type": "code",
   "execution_count": 53,
   "metadata": {
    "collapsed": true
   },
   "outputs": [],
   "source": [
    "def cycle_weight(vertices):\n",
    "    size = len(vertices)\n",
    "    weight = dist15(vertices[size - 1], vertices[0])\n",
    "    for index, vertex in enumerate(vertices):\n",
    "        if (index < size - 1):\n",
    "            weight += dist15(vertices[index], vertices[index + 1])\n",
    "    return weight"
   ]
  },
  {
   "cell_type": "markdown",
   "metadata": {},
   "source": [
    "** Получаем лист: **"
   ]
  },
  {
   "cell_type": "code",
   "execution_count": 54,
   "metadata": {
    "collapsed": true
   },
   "outputs": [],
   "source": [
    "into_chain = lambda l: list(itertools.chain.from_iterable(l))"
   ]
  },
  {
   "cell_type": "markdown",
   "metadata": {},
   "source": [
    "** Решение основной задачи: **"
   ]
  },
  {
   "cell_type": "code",
   "execution_count": 59,
   "metadata": {
    "collapsed": false
   },
   "outputs": [],
   "source": [
    "def solve_tsp_with_lp(num_vertices: int, distance_function: Callable[[int, int], int]) -> List[int]:\n",
    "    \n",
    "    # Удобоиспользуемые переменные:\n",
    "    V = num_vertices\n",
    "    E = 15 * 14 / 2\n",
    "    \n",
    "    # Инициализация решаемой задачи:\n",
    "    TSP = LpProblem(name=\"TSP_MTZ\", sense=LpMinimize)\n",
    "    \n",
    "    # Добавляем переменные u_{i} (MTZ-переменные):\n",
    "    MTZ_variables = [LpVariable(name='u_{}'.format(i), lowBound=1, upBound=V, cat='Integer') for i in range(V)]\n",
    "    \n",
    "    # Добавляем наши n^2 переменных (веса ребер):\n",
    "    weight_variables = [\n",
    "        [LpVariable(name=\"weight_{}_{}\".format(i, j), lowBound = 0, upBound = 1, cat = 'Integer') for j in range(V)]\n",
    "                        for i in range(V)]\n",
    "    \n",
    "    # Добавляем субъект оптимизации:\n",
    "    TSP.objective = LpAffineExpression( into_chain([\n",
    "                [(weight_variables[i][j], distance_function(i + 1, j + 1)) for j in range(V) if i != j]\n",
    "                                                 for i in range(V)]) )\n",
    "    \n",
    "    # Ограничиваем число входящих в вершину ребер и исходящих из нее единицей (мы ведь ищем цикл):\n",
    "    for vertex_num in range(V):\n",
    "        TSP += (LpAffineExpression([(weight_variables[i][vertex_num], 1) \n",
    "                                for i in range(V) if i != vertex_num]) == 1)\n",
    "        TSP += (LpAffineExpression([(weight_variables[vertex_num][i], 1)\n",
    "                                for i in range(V) if i != vertex_num]) == 1)\n",
    "       \n",
    "    # Добавляем ограничения MTZ (u_{i} - u_{j} + V * weight_variables_{ij} <= V - 1)\n",
    "    for i in range(V):\n",
    "        for j in range(1, V):\n",
    "            if i != j:\n",
    "                TSP += (MTZ_variables[i] - MTZ_variables[j] + V * weight_variables[i][j] <= V - 1)\n",
    "    \n",
    "    # Решаем задачу, возвращаем ответ:\n",
    "    TSP.solve()\n",
    "    answer = [1]\n",
    "    current = 0\n",
    "    while len(answer) < V:\n",
    "        for vertex_number in range(V):\n",
    "            if weight_variables[current][vertex_number].value() == 1.0:\n",
    "                answer.append(vertex_number + 1)\n",
    "                current = vertex_number\n",
    "                \n",
    "    return answer"
   ]
  },
  {
   "cell_type": "markdown",
   "metadata": {},
   "source": [
    "** Выводим решение основной задачи: **"
   ]
  },
  {
   "cell_type": "code",
   "execution_count": 61,
   "metadata": {
    "collapsed": false
   },
   "outputs": [
    {
     "name": "stdout",
     "output_type": "stream",
     "text": [
      "Вес найденного ответа: 291\n",
      "Найденный цикл минимального веса: 1 ⟶ 13 ⟶ 2 ⟶ 15 ⟶ 9 ⟶ 5 ⟶ 7 ⟶ 3 ⟶ 12 ⟶ 14 ⟶ 10 ⟶ 8 ⟶ 6 ⟶ 4 ⟶ 11 ⟶ 1\n"
     ]
    }
   ],
   "source": [
    "answer = solve_tsp_with_lp(15, dist15)\n",
    "print(\"Вес найденного ответа: {}\".format(cycle_weight(answer)))\n",
    "print(\"Найденный цикл минимального веса: {}\".format(' ⟶ '.join(map(str, answer + [1]))))"
   ]
  },
  {
   "cell_type": "markdown",
   "metadata": {},
   "source": [
    "** Вывод: **"
   ]
  },
  {
   "cell_type": "markdown",
   "metadata": {},
   "source": [
    "Благодаря этой работе, мы не только научились пользоваться замечательной библиотекой PuLP, но и решили задачу TSP в виде ЦЛП с помощью условий Миллера-Таккера-Землина!"
   ]
  }
 ],
 "metadata": {
  "anaconda-cloud": {},
  "kernelspec": {
   "display_name": "Python [default]",
   "language": "python",
   "name": "python3"
  },
  "language_info": {
   "codemirror_mode": {
    "name": "ipython",
    "version": 3
   },
   "file_extension": ".py",
   "mimetype": "text/x-python",
   "name": "python",
   "nbconvert_exporter": "python",
   "pygments_lexer": "ipython3",
   "version": "3.5.2"
  }
 },
 "nbformat": 4,
 "nbformat_minor": 0
}
