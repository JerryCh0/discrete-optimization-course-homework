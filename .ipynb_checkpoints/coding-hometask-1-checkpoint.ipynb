{
 "cells": [
  {
   "cell_type": "markdown",
   "metadata": {
    "deletable": true,
    "editable": true
   },
   "source": [
    "# Задание по курсу «Дискретная оптимизация», МФТИ, весна 2017"
   ]
  },
  {
   "cell_type": "markdown",
   "metadata": {
    "deletable": true,
    "editable": true
   },
   "source": [
    "## Задача 1-1\n",
    "## Учимся переводить между decision/evaluation/search на примере Bin Packing\n",
    "\n",
    "**Даны:** \n",
    "* $[w_1, \\dots , w_k], w_i \\in [0, 1]$ — веса грузов  \n",
    "* $n_{\\text{bins}}$ — количество корзин грузоподъемностью 1.\n",
    "\n",
    "Предполагается, что функция `solve_bp_decision(weights, n_bins)` решает «распознавательный» (decision) вариант задачи bin packing. На вход ей подаётся список весов и число корзин. Функция возвращает булевский ответ на вопрос «можно ли заданные веса раскидать по не более чем `n_bins` контейнерам? \n",
    "\n",
    "Напишите содержимое функции `solve_bp_evaluation`, которая возвращает оптимальное число корзин (решает evaluation variant задачи bin packing). \n",
    "\n",
    "Затем напишите содержимое функции `solve_bp_search`, которая возвращает список номеров корзин, которые при каком-нибудь оптимальном распределении присваиваются весам из списка `weights` (корзины нумеруются с единицы). \n",
    "\n",
    "Каждая из следующих функций должна вызывать предыдущую не более чем полиномиальное число раз."
   ]
  },
  {
   "cell_type": "code",
   "execution_count": 44,
   "metadata": {
    "collapsed": false
   },
   "outputs": [],
   "source": [
    "def solve_bp_decision(weights: list, n_bins: int) -> bool:\n",
    "    def able_to_pack(weights: list, bin_capacities) -> bool:\n",
    "        return weights == [] or any( \n",
    "            able_to_pack( weights[:-1], bin_capacities[:i] + [capacity - weights[-1]] + bin_capacities[(i + 1):] ) \n",
    "            for i, capacity in enumerate(bin_capacities) if capacity >= weights[-1] \n",
    "        )\n",
    "\n",
    "    return able_to_pack( sorted(weights), [1.0] * n_bins )\n",
    "\n",
    "# To test this, run:\n",
    "# print(solve_bp_decision([0.8, 0.09, 0.4, 0.7], 2))\n",
    "# print(solve_bp_decision([0.8, 0.09, 0.4, 0.7], 3))"
   ]
  },
  {
   "cell_type": "code",
   "execution_count": 45,
   "metadata": {
    "collapsed": false
   },
   "outputs": [],
   "source": [
    "# Реализуем бинарный поиск для нахождения оптимального ответа.\n",
    "# Функцию solve_bp_decision используем как проверочную.\n",
    "# Если она вернула False, то нужно искать в правом подотрезке, иначе в левом.\n",
    "# Понятно, что поиск должен идти на отрезке [0; len(weights)]\n",
    "\n",
    "import numpy as np\n",
    "\n",
    "def solve_bp_evaluation(weights: list) -> int:\n",
    "    l = 0\n",
    "    r = len(weights)\n",
    "    while r - l > 1:\n",
    "        m = (l + r) // 2\n",
    "        if solve_bp_decision(weights, m):\n",
    "            r = m\n",
    "        else:\n",
    "            l = m\n",
    "    return r"
   ]
  },
  {
   "cell_type": "code",
   "execution_count": 46,
   "metadata": {
    "collapsed": false
   },
   "outputs": [],
   "source": [
    "# Используем функцию из реализации первой функции для проверки.\n",
    "def able_to_pack(weights: list, bin_capacities) -> bool:\n",
    "    return weights == [] or any(able_to_pack( weights[:-1], \n",
    "        bin_capacities[:i] + [capacity - weights[-1]] + bin_capacities[(i + 1):] ) \n",
    "        for i, capacity in enumerate(bin_capacities) if capacity >= weights[-1] \n",
    "    )\n",
    "\n",
    "# Сначала определим оптимальный ответ.\n",
    "# Затем, рассматривая веса по очереди, будем пытаться подобрать ему корзину.\n",
    "# Проверяя все корзины подряд понимаем, что если оставшиеся веса пакуются в оставшиеся \n",
    "# грузоподъемности, если нет, то нельзя присвоить этой корзине, если да, то присваиваем,\n",
    "# так как ничего плохого точно не случится.\n",
    "\n",
    "def solve_bp_search(weights: list) -> list:\n",
    "    optimal_bins = solve_bp_evaluation(weights)\n",
    "    capacities = [1.0 for i in range(len(weights))]\n",
    "    some_numeration = []\n",
    "    \n",
    "    for stone_num, stone in enumerate(weights):\n",
    "        for bin_num in range(len(weights)):\n",
    "            if capacities[bin_num] >= stone:\n",
    "                capacities[bin_num] -= stone\n",
    "                if able_to_pack(weights[stone_num+1:], capacities):\n",
    "                    some_numeration.append(bin_num + 1)\n",
    "                    break\n",
    "                else:\n",
    "                    capacities[bin_num] += stone\n",
    "    return some_numeration"
   ]
  }
 ],
 "metadata": {
  "anaconda-cloud": {},
  "kernelspec": {
   "display_name": "Python [default]",
   "language": "python",
   "name": "python3"
  },
  "language_info": {
   "codemirror_mode": {
    "name": "ipython",
    "version": 3
   },
   "file_extension": ".py",
   "mimetype": "text/x-python",
   "name": "python",
   "nbconvert_exporter": "python",
   "pygments_lexer": "ipython3",
   "version": "3.5.2"
  }
 },
 "nbformat": 4,
 "nbformat_minor": 0
}
